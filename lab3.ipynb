{
  "nbformat": 4,
  "nbformat_minor": 0,
  "metadata": {
    "colab": {
      "provenance": [],
      "authorship_tag": "ABX9TyP87DYQVTVbwKvVX0U76S7t"
    },
    "kernelspec": {
      "name": "python3",
      "display_name": "Python 3"
    },
    "language_info": {
      "name": "python"
    }
  },
  "cells": [
    {
      "cell_type": "markdown",
      "source": [
        "# Практическая работа 3. Обработка данных из файла"
      ],
      "metadata": {
        "id": "C3DZeo7xi2HL"
      }
    },
    {
      "cell_type": "markdown",
      "source": [
        "#Выполнил студент ПИН-Б-З-22-1 Гадиян Сергей Гариевич\n",
        "## Индивидуальное задание находится внизу"
      ],
      "metadata": {
        "id": "TF1e3HnttS_s"
      }
    },
    {
      "cell_type": "markdown",
      "source": [
        "## Задание"
      ],
      "metadata": {
        "id": "8wIyzax9q7JF"
      }
    },
    {
      "cell_type": "markdown",
      "source": [
        "в файле data_v1.txt содержится последовательность символов, содержащая буквы латинского алфавита и десятичные цифры. Необходимо решить следующие задачи:\n",
        "1. Найдите максимальное четное число в строке (под числом понимается последовательность цифр, ограниченная буквами).\n",
        "2. Найдите буквенную подпоследовательность максимальной длины (то есть подпоследовательность не содержащую цифр). В ответе укажите ее длину.\n",
        "3. Найдите символ в файле, который встречается чаще всего. Если таких символов несколько, то выведите все эти символы, в конце укажите одно число – сколько раз встречаются эти символы.\n"
      ],
      "metadata": {
        "id": "A1UMdzQGjFix"
      }
    },
    {
      "cell_type": "markdown",
      "source": [
        "## Анализ задания, получение данных"
      ],
      "metadata": {
        "id": "RGlwZaXQrAfd"
      }
    },
    {
      "cell_type": "markdown",
      "source": [
        "Файл data_v1.txt расположен репозитории. Выполним копирование файла в локальное хранилище Google Colab, используя следующую команду:"
      ],
      "metadata": {
        "id": "dusmGf0PoHeU"
      }
    },
    {
      "cell_type": "code",
      "source": [
        "!wget https://raw.githubusercontent.com/enikolaev/IT-and-Programming/main/data/data_v1.txt"
      ],
      "metadata": {
        "colab": {
          "base_uri": "https://localhost:8080/"
        },
        "id": "nrZxoYCxw8c0",
        "outputId": "933cc608-1cdb-41b6-c51c-b59100929115"
      },
      "execution_count": 4,
      "outputs": [
        {
          "output_type": "stream",
          "name": "stdout",
          "text": [
            "--2025-06-10 20:49:22--  https://raw.githubusercontent.com/enikolaev/IT-and-Programming/main/data/data_v1.txt\n",
            "Resolving raw.githubusercontent.com (raw.githubusercontent.com)... 185.199.108.133, 185.199.109.133, 185.199.110.133, ...\n",
            "Connecting to raw.githubusercontent.com (raw.githubusercontent.com)|185.199.108.133|:443... connected.\n",
            "HTTP request sent, awaiting response... 200 OK\n",
            "Length: 100002 (98K) [text/plain]\n",
            "Saving to: ‘data_v1.txt’\n",
            "\n",
            "data_v1.txt         100%[===================>]  97.66K  --.-KB/s    in 0.02s   \n",
            "\n",
            "2025-06-10 20:49:23 (3.92 MB/s) - ‘data_v1.txt’ saved [100002/100002]\n",
            "\n"
          ]
        }
      ]
    },
    {
      "cell_type": "markdown",
      "source": [
        "Реализуем чтение всего файла в строку с использованием метоа `open()` и `read()`:"
      ],
      "metadata": {
        "id": "YlvR9gr-9qJY"
      }
    },
    {
      "cell_type": "code",
      "source": [
        "f=open('data_v1.txt')\n",
        "s=f.read().strip()\n",
        "print(len(s))"
      ],
      "metadata": {
        "colab": {
          "base_uri": "https://localhost:8080/"
        },
        "id": "GzShFx3l0l49",
        "outputId": "c08ee31f-78bf-4c88-9808-955179c84d26"
      },
      "execution_count": null,
      "outputs": [
        {
          "output_type": "stream",
          "name": "stdout",
          "text": [
            "100000\n"
          ]
        }
      ]
    },
    {
      "cell_type": "markdown",
      "source": [
        "## Обработка символьной последовательности"
      ],
      "metadata": {
        "id": "vq_Sojap2Crl"
      }
    },
    {
      "cell_type": "markdown",
      "source": [
        "Строки, подобно списка, являются коллекциями. Только в качестве элементов последовательности выступают символы. Для строк также используются функции нахождения длины `len()`, операция индексации `[]`"
      ],
      "metadata": {
        "id": "ph9AVTOp-etP"
      }
    },
    {
      "cell_type": "markdown",
      "source": [
        "Например, можно посимвольно обходить строку, используя цикл `for` и индекс строки:"
      ],
      "metadata": {
        "id": "HZUZu-Jx-zYn"
      }
    },
    {
      "cell_type": "code",
      "source": [
        "# Вывод первых 10 символов строки с одновременным анализом буква это или цифра\n",
        "for i in range(10):\n",
        "  c = s[i]\n",
        "  if c.isdigit():\n",
        "    t = 'цифра'\n",
        "  else:\n",
        "    t='буква'\n",
        "  print(c, t)"
      ],
      "metadata": {
        "colab": {
          "base_uri": "https://localhost:8080/"
        },
        "id": "zX8ScyYwxI9y",
        "outputId": "1973fbb0-4def-4d45-9abe-bc9710477707"
      },
      "execution_count": null,
      "outputs": [
        {
          "output_type": "stream",
          "name": "stdout",
          "text": [
            "Z буква\n",
            "S буква\n",
            "t буква\n",
            "M буква\n",
            "P буква\n",
            "i буква\n",
            "7 цифра\n",
            "c буква\n",
            "s буква\n",
            "i буква\n"
          ]
        }
      ]
    },
    {
      "cell_type": "markdown",
      "source": [
        "## Решение задачи 1"
      ],
      "metadata": {
        "id": "Xs4oLWFl2eGJ"
      }
    },
    {
      "cell_type": "markdown",
      "source": [
        "Будем посимвольно обходимть строку и накапливать символы-цифры в строке `target`. Если цифровая последовательность прервется, то конвертируем `target` в число `int` и проверяем является ли число четным и не превысило ли оно максимум"
      ],
      "metadata": {
        "id": "HD07G40-3FNH"
      }
    },
    {
      "cell_type": "code",
      "source": [
        "target=''\n",
        "maxx=0\n",
        "for c in s:\n",
        "  if c.isdigit():\n",
        "    target+=c\n",
        "  else:\n",
        "    if target!='':\n",
        "      x = int(target)\n",
        "      maxx=max(x, maxx)\n",
        "      target=''\n",
        "\n",
        "print('Максимальное четное число = %d' % maxx)\n"
      ],
      "metadata": {
        "id": "SHaDC2Tl2-YB",
        "colab": {
          "base_uri": "https://localhost:8080/"
        },
        "outputId": "5751ac36-cc16-4724-98dc-75bd36155829"
      },
      "execution_count": null,
      "outputs": [
        {
          "output_type": "stream",
          "name": "stdout",
          "text": [
            "Максимальное четное число = 838478\n"
          ]
        }
      ]
    },
    {
      "cell_type": "markdown",
      "source": [
        "## Решение задачи 2"
      ],
      "metadata": {
        "id": "9ky-Ji8ppVb9"
      }
    },
    {
      "cell_type": "markdown",
      "source": [
        "Решение данной задачи осуществляется аналогично предыдущей. Можно даже вывести самуюдлинную буквенную строку"
      ],
      "metadata": {
        "id": "0wmxLp6zBcdo"
      }
    },
    {
      "cell_type": "code",
      "source": [
        "target=''\n",
        "maxx=0\n",
        "maxs=''\n",
        "for c in s:\n",
        "  if c.isalpha():\n",
        "    target+=c\n",
        "  else:\n",
        "    if len(target)>maxx:\n",
        "      maxx=len(target)\n",
        "      maxs=target\n",
        "      target=''\n",
        "\n",
        "print('Максимальная длина буквенной строки = %d' % maxx)\n",
        "print('Сама строка:', maxs)"
      ],
      "metadata": {
        "colab": {
          "base_uri": "https://localhost:8080/"
        },
        "id": "v5SpmCokphuJ",
        "outputId": "7148b50b-1692-40bc-a93c-ffd518791cde"
      },
      "execution_count": null,
      "outputs": [
        {
          "output_type": "stream",
          "name": "stdout",
          "text": [
            "Максимальная длина буквенной строки = 1025\n",
            "Сама строка: rpfunCMcMCfmnlNBbiCkCOPQsRYZmLjneFWZJjHqUxiTFGtMiKUTvaUkXBQnvGgpnDmUtFNyXZwWIdyqBWzLEqsTqoXCOkPaFQTuVxYeTftNLcEEjnRUqqAfeOmBHdcIDfyBpmvYjIivcZXMaflpfECMZKprJUSPIJtoolmBwWFmTiXtLsUgZrirYdtPUGEhsmAgGwqxoTcNlbtFmVApQAkcRiRFbvQxKwpdEVZhgUAymnZnRnJVmnDIvHmxtJkiICukqvSsMRrAHDBsAFDBWieGPhTcXNdetYzIdITVgvyiPqhPTKtixxggpYfCThpmcEqclpTTjnnHAXbpWOaOPlGcabgWvgiDDOhSWdTviUlNvTaoEVhoBfgrJkoJxtyDWXjVYYRokqkKPwRdkPkQYaVIoHCAfYPEyHgBsbUkYQyKNfgyWNJJsmtAoTPGrHKwUyJDvCEqgeRLTFdpqxaZFFGJrmkQuqbyadKxgWFsznrBtZyuubYwcmDAMqCqWXSUomuCMcFWWoxAWMJfdcYlDGMDSSCnYCUOVvgENGKZiTXKuLaLtMHTPjKmWwjwhfaePXiOPwZdvnAlPruuGwKhbRevjOHPVWIShguJJgKLaqUMJLwokvxJzYpvfOvfzRDHGQbnrWxESwCdsUzxyFWEYqRXpihePHiHXbMXBYyvIcUlaudLjXIPdXdMHrExnGgHeanzgtDSgSGOkxupzNQitVYWFXSNOpsdKMAveZQieNAqCMEXZzBdemldlsWCpiIMuQomlFEbZKcBwxAbNlFGPejoMQxgPHzXiskhadywliHoMmZlokYoauVlxmuHrqhwJHYpgzfUAqwPBAQPJNKlKhhYCRrLocFcIEorvZnBPIjlLVtMzafAoNJRufesTkbJcvviKEOSowgawXzWsFeUYgGsrdXZHbRGVQGvSczyAvdAeLjScCtYfmChsBrRoekihryFAAMAUHMtRwTgNOmUzLUSvcVtKROJAQTcsYdjlSdysBhQBTCpScbdXJjnRXvzT\n"
          ]
        }
      ]
    },
    {
      "cell_type": "markdown",
      "source": [
        "## Решение задачи 3"
      ],
      "metadata": {
        "id": "L-Uil8q1B7CH"
      }
    },
    {
      "cell_type": "markdown",
      "source": [
        "Для решения данной задачи будем использовать коллекцию словарь `dict()`. Данная коллекция содержит элемкнты в виде пар `ключ : значение`. Доступ к элементам осуществляется по ключу с использованием операции ндексации."
      ],
      "metadata": {
        "id": "0njxeJH_B-_H"
      }
    },
    {
      "cell_type": "markdown",
      "source": [
        "Заполним словарь d, который после прохода по строке должен принять вид:\n",
        "d = {'A' : 10, 'B' : 127, '3' : 217, ... }\n",
        "то есть в качестве ключа будем использовать символ, а вкачестве значения - количество таких символов в строке:"
      ],
      "metadata": {
        "id": "n7s94FQ1CcZI"
      }
    },
    {
      "cell_type": "code",
      "source": [
        "# Создаем пустой словарь\n",
        "d={}\n",
        "# Проходим по строке и заполняем словарь\n",
        "for c in s:\n",
        "  d[c] = d.get(c, 0) + 1\n",
        "\n",
        "# Выводим получившийся словарь:\n",
        "print(d)"
      ],
      "metadata": {
        "colab": {
          "base_uri": "https://localhost:8080/"
        },
        "id": "S2nYKZoCC2t3",
        "outputId": "393e74af-c716-4650-daed-6948b9b6d257"
      },
      "execution_count": null,
      "outputs": [
        {
          "output_type": "stream",
          "name": "stdout",
          "text": [
            "{'Z': 1623, 'S': 1613, 't': 1711, 'M': 1618, 'P': 1670, 'i': 1542, '7': 1643, 'c': 1562, 's': 1606, 'T': 1699, 'b': 1555, 'r': 1581, 'm': 1686, 'E': 1662, 'h': 1596, '8': 1654, 'f': 1609, 'B': 1647, 'K': 1616, 'a': 1586, 'F': 1623, 'O': 1580, 'w': 1582, 'o': 1609, '5': 1631, '1': 1580, 'W': 1595, '6': 1597, '0': 1651, 'I': 1604, 'u': 1606, 'e': 1566, 'p': 1644, 'D': 1644, 'A': 1638, 'Q': 1544, 'J': 1638, 'U': 1629, 'R': 1590, 'C': 1570, 'G': 1597, 'k': 1618, 'j': 1603, 'N': 1636, 'l': 1583, '2': 1600, 'q': 1614, 'X': 1619, 'H': 1565, '3': 1587, 'L': 1635, 'Y': 1647, '9': 1611, 'V': 1601, 'x': 1654, 'y': 1593, 'g': 1603, '4': 1599, 'v': 1655, 'd': 1599, 'z': 1615, 'n': 1566}\n"
          ]
        }
      ]
    },
    {
      "cell_type": "markdown",
      "source": [
        "В получившемся словаре необходимо найти самый частотный символ. Для этого не будем обходить словарь, а просто воспользуемся встроенной функцией `max()`, которую применим к коллекции `values()` словаря"
      ],
      "metadata": {
        "id": "V6phns45DSLU"
      }
    },
    {
      "cell_type": "code",
      "source": [
        "max_val = max(d.values())\n",
        "print(max_val)"
      ],
      "metadata": {
        "colab": {
          "base_uri": "https://localhost:8080/"
        },
        "id": "v9tuZfxcDq_w",
        "outputId": "e1c7adfa-ebc3-427f-fba3-7f893cf67289"
      },
      "execution_count": null,
      "outputs": [
        {
          "output_type": "stream",
          "name": "stdout",
          "text": [
            "1711\n"
          ]
        }
      ]
    },
    {
      "cell_type": "markdown",
      "source": [
        "Выполним обход словаря и напечатаем ответ к данной задаче:"
      ],
      "metadata": {
        "id": "pQdDC_ojDy2G"
      }
    },
    {
      "cell_type": "code",
      "source": [
        "for k in d:\n",
        "  if d[k]==max_val:\n",
        "    print(k, end=' ')\n",
        "print(max_val)"
      ],
      "metadata": {
        "colab": {
          "base_uri": "https://localhost:8080/"
        },
        "id": "T2fCfvLuD5R2",
        "outputId": "cefc9c4a-2d43-418b-c53b-33e3ea6283dc"
      },
      "execution_count": null,
      "outputs": [
        {
          "output_type": "stream",
          "name": "stdout",
          "text": [
            "t 1711\n"
          ]
        }
      ]
    },
    {
      "cell_type": "markdown",
      "source": [
        "Для данного файла только один символ `t` встречается в файле максимальное `1711` количество раз"
      ],
      "metadata": {
        "id": "8gAJQBjSEHC-"
      }
    },
    {
      "cell_type": "markdown",
      "source": [
        "В данной работе были использованы операторы `if` (условный оператор), `for ... in range(...)` (оператор цикла с обходом диапазона). Применялись функции `print()`, `len()`, `max()`. В работе использовался тип данных `dict()`"
      ],
      "metadata": {
        "id": "kfm23877A4o2"
      }
    },
    {
      "cell_type": "markdown",
      "source": [
        " # Индивидуальное задание"
      ],
      "metadata": {
        "id": "Rgk9iKeLzwoO"
      }
    },
    {
      "cell_type": "markdown",
      "source": [
        "##Вариант 4\n",
        "В файле data_v1.txt найдите количество чисел кратных 3 но не\n",
        "кратных 9 (под числом понимается непрерывная\n",
        "последовательность цифр). В ответе укажите количество таких\n",
        "чисел и максимальное из них."
      ],
      "metadata": {
        "id": "3fzFUyJ8z00c"
      }
    },
    {
      "cell_type": "code",
      "source": [
        "# открываем файл для чтения и считываем его содержимое\n",
        "with open('data_v1.txt', 'r') as f:\n",
        "    s = f.read().strip()  # удаляем пробелы в начале и конце строки\n",
        "# список для хранения извлеченных чисел\n",
        "numbers = []\n",
        "# временная строка для сбора цифр текущего числа\n",
        "target = ''\n",
        "# проходим по каждому символу в строке\n",
        "for c in s:\n",
        "    if c.isdigit():\n",
        "        # если символ - цифра, добавляем его к target\n",
        "        target += c\n",
        "    else:\n",
        "        # если символ не цифра и target не пуст (было собрано число)\n",
        "        if target:\n",
        "            # преобразуем target в целое число и добавляем в список numbers\n",
        "            numbers.append(int(target))\n",
        "            # очищаем target для сбора следующего числа\n",
        "            target = ''\n",
        "# после цикла проверяем, осталась ли незавершенная последовательность цифр в target\n",
        "if target:\n",
        "    # добавляем последнее число в numbers\n",
        "    numbers.append(int(target))\n",
        "# список для хранения чисел, удовлетворяющих условию (кратны 3, но не кратны 9)\n",
        "valid_numbers = []\n",
        "# проходим по каждому числу в списке numbers\n",
        "for x in numbers:\n",
        "    # проверяем условие: число делится на 3, но не делится на 9\n",
        "    if x % 3 == 0 and x % 9 != 0:\n",
        "        # добавляем число в список valid_numbers\n",
        "        valid_numbers.append(x)\n",
        "# подсчитываем количество чисел, удовлетворяющих условию\n",
        "count = len(valid_numbers)\n",
        "# находим максимальное число среди valid_numbers, если список не пуст\n",
        "max_num = max(valid_numbers) if valid_numbers else None\n",
        "# выводим результаты\n",
        "print(f\"Количество чисел: {count}\")\n",
        "print(f\"Максимальное число: {max_num}\")"
      ],
      "metadata": {
        "colab": {
          "base_uri": "https://localhost:8080/"
        },
        "id": "O_YGyCec3Jdt",
        "outputId": "97d71a92-14a7-436a-a74d-9f0f923570cf"
      },
      "execution_count": 5,
      "outputs": [
        {
          "output_type": "stream",
          "name": "stdout",
          "text": [
            "Количество чисел: 2766\n",
            "Максимальное число: 73758\n"
          ]
        }
      ]
    },
    {
      "cell_type": "markdown",
      "source": [
        "##Ответы на контрольные вопросы"
      ],
      "metadata": {
        "id": "6IbgIjsx3hSt"
      }
    },
    {
      "cell_type": "markdown",
      "source": [
        "**1. Что общего у строки и списка в Python? <br>**\n",
        "\n",
        "Оба являются последовательностями (iterable):\n",
        "Можно использовать циклы for для обхода элементов.\n",
        "\n",
        "Индексация: Доступ к элементам по индексу (например, s[0] для строки s и lst[0] для списка lst).\n",
        "\n",
        "Срезы: Поддерживают срезы (например, s[1:5] и lst[1:5]).\n",
        "\n",
        "Функция len():\n",
        "Возвращает длину строки или списка.\n"
      ],
      "metadata": {
        "id": "EOnT5xjd3jav"
      }
    },
    {
      "cell_type": "markdown",
      "source": [
        " **2. Перечислите и охарактеризуйте функции класса str в Python.<br>**\n",
        "\n",
        "str.isdigit():\n",
        "\n",
        "Проверяет, состоит ли строка только из цифр.\n",
        "\n",
        "str.isalpha():\n",
        "\n",
        "Проверяет, состоит ли строка только из букв.\n",
        "\n",
        "str.strip():\n",
        "\n",
        "Удаляет пробелы в начале и конце строки.\n",
        "\n",
        "str.split(sep=None):\n",
        "\n",
        "Разделяет строку на список подстрок по разделителю sep.\n",
        "\n",
        "str.join(iterable):\n",
        "\n",
        "Объединяет элементы итерируемого объекта в строку, используя текущую строку как разделитель.\n",
        "\n",
        "str.lower() / str.upper():\n",
        "\n",
        "Преобразует строку к нижнему/верхнему регистру.\n",
        "\n",
        "str.replace(old, new):\n",
        "\n",
        "Заменяет все вхождения подстроки old на new."
      ],
      "metadata": {
        "id": "Nr-NV6-A4uUG"
      }
    },
    {
      "cell_type": "markdown",
      "source": [
        "**3. Охарактеризуйте тип данных dict в Python. <br>**\n",
        "Словарь (dict): Хранит данные в виде пар ключ: значение.\n",
        "\n",
        "Ключи: Должны быть уникальными и неизменяемыми (например, строки, числа).\n",
        "\n",
        "Значения: Могут быть любого типа данных.\n",
        "\n",
        "Динамический: Можно добавлять, удалять и изменять элементы."
      ],
      "metadata": {
        "id": "6sClBE0k4yWc"
      }
    },
    {
      "cell_type": "markdown",
      "source": [
        "**4. Перечислите и опишите использование функций класса dict.<br>**\n",
        "dict.get(key, default=None):\n",
        " - Возвращает значение по ключу key. Если ключа нет, возвращает default.\n",
        "\n",
        "dict.keys():\n",
        "\n",
        "- Возвращает объект dict_keys с ключами словаря.\n",
        "\n",
        "dict.values():\n",
        "\n",
        "- Возвращает объект dict_values со значениями словаря.\n",
        "\n",
        "dict.items():\n",
        "\n",
        "- Возвращает объект dict_items с парами ключ: значение.\n",
        "\n",
        "dict.update(other_dict):\n",
        "\n",
        "- Обновляет словарь элементами из other_dict.\n",
        "\n",
        "dict.pop(key, default):\n",
        "\n",
        "- Удаляет элемент по ключу и возвращает его значение. Если ключа нет, возвращает default."
      ],
      "metadata": {
        "id": "p92aNd5r74vQ"
      }
    },
    {
      "cell_type": "markdown",
      "source": [
        "**5. Опишите механизм чтения данных из текстового файла. <br>**\n",
        "Открытие файла:<br>\n",
        "`f = open(\"file.txt\", \"r\")  # r — режим чтения` <br>\n",
        "\n",
        "Чтение содержимого:\n",
        "\n",
        "`f.read()` — читает весь файл как одну строку.\n",
        "\n",
        "`f.readline()` — читает одну строку.\n",
        "\n",
        "`f.readlines()` — читает все строки в список.\n",
        "\n",
        "Закрытие файла:<Br>\n",
        "`f.close()`"
      ],
      "metadata": {
        "id": "27s0gNQm8OC5"
      }
    },
    {
      "cell_type": "markdown",
      "source": [
        "**6.Опишите назначение, сходства и различия функций чтения из текстового\n",
        "файла: read( ), readline( ), readlines( ).<br>**\n",
        "Сходства:\n",
        "\n",
        "- Все методы читают данные из файла.\n",
        "\n",
        "- Возвращают данные в виде строк.\n",
        "\n",
        "Различия:\n",
        "\n",
        "- read() читает весь файл за раз.\n",
        "\n",
        "- readline() читает построчно.\n",
        "\n",
        "- readlines() читает все строки в список.\n"
      ],
      "metadata": {
        "id": "C50rvR-79h3d"
      }
    },
    {
      "cell_type": "markdown",
      "source": [
        "**7. Как прочитать многострочный текстовый файл не используя явно методы\n",
        "read( ), readline( ), readlines( )? <br>**\n",
        "Можно использовать итерацию по самому файлу — он является итерируемым объектом:\n",
        "\n",
        "```\n",
        "with open(\"file.txt\", \"r\") as f:\n",
        "    for line in f:\n",
        "        print(line, end='')  # end='' чтобы не добавлялся лишний перевод строки\n",
        "```\n"
      ],
      "metadata": {
        "id": "HkoRcEZd9yVd"
      }
    }
  ]
}