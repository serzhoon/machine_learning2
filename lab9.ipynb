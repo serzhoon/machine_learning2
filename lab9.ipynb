{
  "nbformat": 4,
  "nbformat_minor": 0,
  "metadata": {
    "colab": {
      "provenance": [],
      "authorship_tag": "ABX9TyPlkkhrOqd8G8MvzYqZv6gV"
    },
    "kernelspec": {
      "name": "python3",
      "display_name": "Python 3"
    },
    "language_info": {
      "name": "python"
    }
  },
  "cells": [
    {
      "cell_type": "markdown",
      "metadata": {
        "id": "0WHrp4L2DlLO"
      },
      "source": [
        "# Практическая работа 9\n",
        "## Исследование набора данных ирисы Фишера"
      ]
    },
    {
      "cell_type": "markdown",
      "source": [
        "##Выполнил студент ПИН-Б-З-22-1 Гадиян Сергей Гариевич"
      ],
      "metadata": {
        "id": "Gb6cDIQGXqXT"
      }
    },
    {
      "cell_type": "markdown",
      "metadata": {
        "id": "OuqYdfR6DlLR"
      },
      "source": [
        "### Подключение библиотеки NumPy и загрузка данных"
      ]
    },
    {
      "cell_type": "code",
      "source": [
        "!wget https://raw.githubusercontent.com/enikolaev/MMO/main/datasets/iris/iris.data"
      ],
      "metadata": {
        "colab": {
          "base_uri": "https://localhost:8080/"
        },
        "id": "tvYswangDm8g",
        "outputId": "2433cda4-ea93-4cea-a717-58fde1661188"
      },
      "execution_count": null,
      "outputs": [
        {
          "output_type": "stream",
          "name": "stdout",
          "text": [
            "--2025-06-10 19:42:13--  https://raw.githubusercontent.com/enikolaev/MMO/main/datasets/iris/iris.data\n",
            "Resolving raw.githubusercontent.com (raw.githubusercontent.com)... 185.199.108.133, 185.199.109.133, 185.199.110.133, ...\n",
            "Connecting to raw.githubusercontent.com (raw.githubusercontent.com)|185.199.108.133|:443... connected.\n",
            "HTTP request sent, awaiting response... 200 OK\n",
            "Length: 4551 (4.4K) [text/plain]\n",
            "Saving to: ‘iris.data’\n",
            "\n",
            "\riris.data             0%[                    ]       0  --.-KB/s               \riris.data           100%[===================>]   4.44K  --.-KB/s    in 0s      \n",
            "\n",
            "2025-06-10 19:42:13 (46.1 MB/s) - ‘iris.data’ saved [4551/4551]\n",
            "\n"
          ]
        }
      ]
    },
    {
      "cell_type": "markdown",
      "metadata": {
        "id": "twE6eRz2XnXJ"
      },
      "source": [
        "### Подключение библиотеки NumPy и загрузка данных"
      ]
    },
    {
      "cell_type": "code",
      "source": [
        "!wget https://raw.githubusercontent.com/enikolaev/MMO/main/datasets/iris/iris.data"
      ],
      "metadata": {
        "colab": {
          "base_uri": "https://localhost:8080/"
        },
        "outputId": "d70d3ca8-7f74-4066-e500-58ba408cb45e",
        "id": "i8CKYCFjXnXK"
      },
      "execution_count": null,
      "outputs": [
        {
          "output_type": "stream",
          "name": "stdout",
          "text": [
            "--2025-06-10 19:46:22--  https://raw.githubusercontent.com/enikolaev/MMO/main/datasets/iris/iris.data\n",
            "Resolving raw.githubusercontent.com (raw.githubusercontent.com)... 185.199.108.133, 185.199.109.133, 185.199.110.133, ...\n",
            "Connecting to raw.githubusercontent.com (raw.githubusercontent.com)|185.199.108.133|:443... connected.\n",
            "HTTP request sent, awaiting response... 200 OK\n",
            "Length: 4551 (4.4K) [text/plain]\n",
            "Saving to: ‘iris.data.1’\n",
            "\n",
            "\riris.data.1           0%[                    ]       0  --.-KB/s               \riris.data.1         100%[===================>]   4.44K  --.-KB/s    in 0s      \n",
            "\n",
            "2025-06-10 19:46:22 (46.2 MB/s) - ‘iris.data.1’ saved [4551/4551]\n",
            "\n"
          ]
        }
      ]
    },
    {
      "cell_type": "code",
      "execution_count": null,
      "metadata": {
        "ExecuteTime": {
          "end_time": "2022-08-22T15:50:49.355964Z",
          "start_time": "2022-08-22T15:50:46.108877Z"
        },
        "colab": {
          "base_uri": "https://localhost:8080/"
        },
        "id": "Y-GOOMZhDlLR",
        "outputId": "9342a7b4-d2ff-48a1-b0d9-a2ba34b0731b"
      },
      "outputs": [
        {
          "output_type": "stream",
          "name": "stdout",
          "text": [
            "[[5.1 3.5 1.4 0.2 nan]\n",
            " [4.9 3.  1.4 0.2 nan]\n",
            " [4.7 3.2 1.3 0.2 nan]\n",
            " [4.6 3.1 1.5 0.2 nan]\n",
            " [5.  3.6 1.4 0.2 nan]\n",
            " [5.4 3.9 1.7 0.4 nan]\n",
            " [4.6 3.4 1.4 0.3 nan]\n",
            " [5.  3.4 1.5 0.2 nan]\n",
            " [4.4 2.9 1.4 0.2 nan]\n",
            " [4.9 3.1 1.5 0.1 nan]\n",
            " [5.4 3.7 1.5 0.2 nan]\n",
            " [4.8 3.4 1.6 0.2 nan]\n",
            " [4.8 3.  1.4 0.1 nan]\n",
            " [4.3 3.  1.1 0.1 nan]\n",
            " [5.8 4.  1.2 0.2 nan]\n",
            " [5.7 4.4 1.5 0.4 nan]\n",
            " [5.4 3.9 1.3 0.4 nan]\n",
            " [5.1 3.5 1.4 0.3 nan]\n",
            " [5.7 3.8 1.7 0.3 nan]\n",
            " [5.1 3.8 1.5 0.3 nan]\n",
            " [5.4 3.4 1.7 0.2 nan]\n",
            " [5.1 3.7 1.5 0.4 nan]\n",
            " [4.6 3.6 1.  0.2 nan]\n",
            " [5.1 3.3 1.7 0.5 nan]\n",
            " [4.8 3.4 1.9 0.2 nan]\n",
            " [5.  3.  1.6 0.2 nan]\n",
            " [5.  3.4 1.6 0.4 nan]\n",
            " [5.2 3.5 1.5 0.2 nan]\n",
            " [5.2 3.4 1.4 0.2 nan]\n",
            " [4.7 3.2 1.6 0.2 nan]\n",
            " [4.8 3.1 1.6 0.2 nan]\n",
            " [5.4 3.4 1.5 0.4 nan]\n",
            " [5.2 4.1 1.5 0.1 nan]\n",
            " [5.5 4.2 1.4 0.2 nan]\n",
            " [4.9 3.1 1.5 0.1 nan]\n",
            " [5.  3.2 1.2 0.2 nan]\n",
            " [5.5 3.5 1.3 0.2 nan]\n",
            " [4.9 3.1 1.5 0.1 nan]\n",
            " [4.4 3.  1.3 0.2 nan]\n",
            " [5.1 3.4 1.5 0.2 nan]\n",
            " [5.  3.5 1.3 0.3 nan]\n",
            " [4.5 2.3 1.3 0.3 nan]\n",
            " [4.4 3.2 1.3 0.2 nan]\n",
            " [5.  3.5 1.6 0.6 nan]\n",
            " [5.1 3.8 1.9 0.4 nan]\n",
            " [4.8 3.  1.4 0.3 nan]\n",
            " [5.1 3.8 1.6 0.2 nan]\n",
            " [4.6 3.2 1.4 0.2 nan]\n",
            " [5.3 3.7 1.5 0.2 nan]\n",
            " [5.  3.3 1.4 0.2 nan]\n",
            " [7.  3.2 4.7 1.4 nan]\n",
            " [6.4 3.2 4.5 1.5 nan]\n",
            " [6.9 3.1 4.9 1.5 nan]\n",
            " [5.5 2.3 4.  1.3 nan]\n",
            " [6.5 2.8 4.6 1.5 nan]\n",
            " [5.7 2.8 4.5 1.3 nan]\n",
            " [6.3 3.3 4.7 1.6 nan]\n",
            " [4.9 2.4 3.3 1.  nan]\n",
            " [6.6 2.9 4.6 1.3 nan]\n",
            " [5.2 2.7 3.9 1.4 nan]\n",
            " [5.  2.  3.5 1.  nan]\n",
            " [5.9 3.  4.2 1.5 nan]\n",
            " [6.  2.2 4.  1.  nan]\n",
            " [6.1 2.9 4.7 1.4 nan]\n",
            " [5.6 2.9 3.6 1.3 nan]\n",
            " [6.7 3.1 4.4 1.4 nan]\n",
            " [5.6 3.  4.5 1.5 nan]\n",
            " [5.8 2.7 4.1 1.  nan]\n",
            " [6.2 2.2 4.5 1.5 nan]\n",
            " [5.6 2.5 3.9 1.1 nan]\n",
            " [5.9 3.2 4.8 1.8 nan]\n",
            " [6.1 2.8 4.  1.3 nan]\n",
            " [6.3 2.5 4.9 1.5 nan]\n",
            " [6.1 2.8 4.7 1.2 nan]\n",
            " [6.4 2.9 4.3 1.3 nan]\n",
            " [6.6 3.  4.4 1.4 nan]\n",
            " [6.8 2.8 4.8 1.4 nan]\n",
            " [6.7 3.  5.  1.7 nan]\n",
            " [6.  2.9 4.5 1.5 nan]\n",
            " [5.7 2.6 3.5 1.  nan]\n",
            " [5.5 2.4 3.8 1.1 nan]\n",
            " [5.5 2.4 3.7 1.  nan]\n",
            " [5.8 2.7 3.9 1.2 nan]\n",
            " [6.  2.7 5.1 1.6 nan]\n",
            " [5.4 3.  4.5 1.5 nan]\n",
            " [6.  3.4 4.5 1.6 nan]\n",
            " [6.7 3.1 4.7 1.5 nan]\n",
            " [6.3 2.3 4.4 1.3 nan]\n",
            " [5.6 3.  4.1 1.3 nan]\n",
            " [5.5 2.5 4.  1.3 nan]\n",
            " [5.5 2.6 4.4 1.2 nan]\n",
            " [6.1 3.  4.6 1.4 nan]\n",
            " [5.8 2.6 4.  1.2 nan]\n",
            " [5.  2.3 3.3 1.  nan]\n",
            " [5.6 2.7 4.2 1.3 nan]\n",
            " [5.7 3.  4.2 1.2 nan]\n",
            " [5.7 2.9 4.2 1.3 nan]\n",
            " [6.2 2.9 4.3 1.3 nan]\n",
            " [5.1 2.5 3.  1.1 nan]\n",
            " [5.7 2.8 4.1 1.3 nan]\n",
            " [6.3 3.3 6.  2.5 nan]\n",
            " [5.8 2.7 5.1 1.9 nan]\n",
            " [7.1 3.  5.9 2.1 nan]\n",
            " [6.3 2.9 5.6 1.8 nan]\n",
            " [6.5 3.  5.8 2.2 nan]\n",
            " [7.6 3.  6.6 2.1 nan]\n",
            " [4.9 2.5 4.5 1.7 nan]\n",
            " [7.3 2.9 6.3 1.8 nan]\n",
            " [6.7 2.5 5.8 1.8 nan]\n",
            " [7.2 3.6 6.1 2.5 nan]\n",
            " [6.5 3.2 5.1 2.  nan]\n",
            " [6.4 2.7 5.3 1.9 nan]\n",
            " [6.8 3.  5.5 2.1 nan]\n",
            " [5.7 2.5 5.  2.  nan]\n",
            " [5.8 2.8 5.1 2.4 nan]\n",
            " [6.4 3.2 5.3 2.3 nan]\n",
            " [6.5 3.  5.5 1.8 nan]\n",
            " [7.7 3.8 6.7 2.2 nan]\n",
            " [7.7 2.6 6.9 2.3 nan]\n",
            " [6.  2.2 5.  1.5 nan]\n",
            " [6.9 3.2 5.7 2.3 nan]\n",
            " [5.6 2.8 4.9 2.  nan]\n",
            " [7.7 2.8 6.7 2.  nan]\n",
            " [6.3 2.7 4.9 1.8 nan]\n",
            " [6.7 3.3 5.7 2.1 nan]\n",
            " [7.2 3.2 6.  1.8 nan]\n",
            " [6.2 2.8 4.8 1.8 nan]\n",
            " [6.1 3.  4.9 1.8 nan]\n",
            " [6.4 2.8 5.6 2.1 nan]\n",
            " [7.2 3.  5.8 1.6 nan]\n",
            " [7.4 2.8 6.1 1.9 nan]\n",
            " [7.9 3.8 6.4 2.  nan]\n",
            " [6.4 2.8 5.6 2.2 nan]\n",
            " [6.3 2.8 5.1 1.5 nan]\n",
            " [6.1 2.6 5.6 1.4 nan]\n",
            " [7.7 3.  6.1 2.3 nan]\n",
            " [6.3 3.4 5.6 2.4 nan]\n",
            " [6.4 3.1 5.5 1.8 nan]\n",
            " [6.  3.  4.8 1.8 nan]\n",
            " [6.9 3.1 5.4 2.1 nan]\n",
            " [6.7 3.1 5.6 2.4 nan]\n",
            " [6.9 3.1 5.1 2.3 nan]\n",
            " [5.8 2.7 5.1 1.9 nan]\n",
            " [6.8 3.2 5.9 2.3 nan]\n",
            " [6.7 3.3 5.7 2.5 nan]\n",
            " [6.7 3.  5.2 2.3 nan]\n",
            " [6.3 2.5 5.  1.9 nan]\n",
            " [6.5 3.  5.2 2.  nan]\n",
            " [6.2 3.4 5.4 2.3 nan]\n",
            " [5.9 3.  5.1 1.8 nan]]\n"
          ]
        }
      ],
      "source": [
        "import numpy as np\n",
        "data_path = \"iris.data\"\n",
        "data = np.genfromtxt(data_path, delimiter=\",\")\n",
        "print(data)"
      ]
    },
    {
      "cell_type": "markdown",
      "metadata": {
        "id": "BRkRKa7vDlLT"
      },
      "source": [
        "### Тип переменной и форма (shape)"
      ]
    },
    {
      "cell_type": "code",
      "execution_count": null,
      "metadata": {
        "ExecuteTime": {
          "end_time": "2022-08-22T15:50:53.470268Z",
          "start_time": "2022-08-22T15:50:53.466267Z"
        },
        "colab": {
          "base_uri": "https://localhost:8080/"
        },
        "id": "n1sUPh2yDlLT",
        "outputId": "ad1d1e13-e795-43af-fa76-2a8fecd36418"
      },
      "outputs": [
        {
          "output_type": "stream",
          "name": "stdout",
          "text": [
            "Data type :  <class 'numpy.ndarray'>\n",
            "Data shape :  (150, 5)\n",
            "[[6.3 2.5 5.  1.9 nan]\n",
            " [6.5 3.  5.2 2.  nan]\n",
            " [6.2 3.4 5.4 2.3 nan]\n",
            " [5.9 3.  5.1 1.8 nan]]\n"
          ]
        }
      ],
      "source": [
        "print ( \"Data type : \", type(data) )\n",
        "print ( \"Data shape : \", data.shape )\n",
        "print ( data[-4:] )"
      ]
    },
    {
      "cell_type": "markdown",
      "metadata": {
        "id": "WnQZ1-tlDlLT"
      },
      "source": [
        "### Получение типа набора данных, строки, элемента"
      ]
    },
    {
      "cell_type": "code",
      "execution_count": null,
      "metadata": {
        "ExecuteTime": {
          "end_time": "2022-08-22T15:50:56.469203Z",
          "start_time": "2022-08-22T15:50:56.442184Z"
        },
        "colab": {
          "base_uri": "https://localhost:8080/"
        },
        "id": "diZMLAwIDlLT",
        "outputId": "2f42bd93-01f8-42b0-cbe9-d313b4631a8d"
      },
      "outputs": [
        {
          "output_type": "stream",
          "name": "stdout",
          "text": [
            "Shape of the dataset: (150,)\n",
            "Dataset type: <class 'numpy.ndarray'>\n",
            "A single row of the dataset is type of: <class 'numpy.void'>\n",
            "Types of elements: <class 'numpy.float64'> <class 'numpy.str_'>\n",
            "Dataset:\n",
            "[(5.1, 3.5, 1.4, 0.2, 'Iris-setosa') (4.9, 3. , 1.4, 0.2, 'Iris-setosa')\n",
            " (4.7, 3.2, 1.3, 0.2, 'Iris-setosa') (4.6, 3.1, 1.5, 0.2, 'Iris-setosa')\n",
            " (5. , 3.6, 1.4, 0.2, 'Iris-setosa') (5.4, 3.9, 1.7, 0.4, 'Iris-setosa')\n",
            " (4.6, 3.4, 1.4, 0.3, 'Iris-setosa') (5. , 3.4, 1.5, 0.2, 'Iris-setosa')\n",
            " (4.4, 2.9, 1.4, 0.2, 'Iris-setosa') (4.9, 3.1, 1.5, 0.1, 'Iris-setosa')\n",
            " (5.4, 3.7, 1.5, 0.2, 'Iris-setosa') (4.8, 3.4, 1.6, 0.2, 'Iris-setosa')\n",
            " (4.8, 3. , 1.4, 0.1, 'Iris-setosa') (4.3, 3. , 1.1, 0.1, 'Iris-setosa')\n",
            " (5.8, 4. , 1.2, 0.2, 'Iris-setosa') (5.7, 4.4, 1.5, 0.4, 'Iris-setosa')\n",
            " (5.4, 3.9, 1.3, 0.4, 'Iris-setosa') (5.1, 3.5, 1.4, 0.3, 'Iris-setosa')\n",
            " (5.7, 3.8, 1.7, 0.3, 'Iris-setosa') (5.1, 3.8, 1.5, 0.3, 'Iris-setosa')\n",
            " (5.4, 3.4, 1.7, 0.2, 'Iris-setosa') (5.1, 3.7, 1.5, 0.4, 'Iris-setosa')\n",
            " (4.6, 3.6, 1. , 0.2, 'Iris-setosa') (5.1, 3.3, 1.7, 0.5, 'Iris-setosa')\n",
            " (4.8, 3.4, 1.9, 0.2, 'Iris-setosa') (5. , 3. , 1.6, 0.2, 'Iris-setosa')\n",
            " (5. , 3.4, 1.6, 0.4, 'Iris-setosa') (5.2, 3.5, 1.5, 0.2, 'Iris-setosa')\n",
            " (5.2, 3.4, 1.4, 0.2, 'Iris-setosa') (4.7, 3.2, 1.6, 0.2, 'Iris-setosa')\n",
            " (4.8, 3.1, 1.6, 0.2, 'Iris-setosa') (5.4, 3.4, 1.5, 0.4, 'Iris-setosa')\n",
            " (5.2, 4.1, 1.5, 0.1, 'Iris-setosa') (5.5, 4.2, 1.4, 0.2, 'Iris-setosa')\n",
            " (4.9, 3.1, 1.5, 0.1, 'Iris-setosa') (5. , 3.2, 1.2, 0.2, 'Iris-setosa')\n",
            " (5.5, 3.5, 1.3, 0.2, 'Iris-setosa') (4.9, 3.1, 1.5, 0.1, 'Iris-setosa')\n",
            " (4.4, 3. , 1.3, 0.2, 'Iris-setosa') (5.1, 3.4, 1.5, 0.2, 'Iris-setosa')\n",
            " (5. , 3.5, 1.3, 0.3, 'Iris-setosa') (4.5, 2.3, 1.3, 0.3, 'Iris-setosa')\n",
            " (4.4, 3.2, 1.3, 0.2, 'Iris-setosa') (5. , 3.5, 1.6, 0.6, 'Iris-setosa')\n",
            " (5.1, 3.8, 1.9, 0.4, 'Iris-setosa') (4.8, 3. , 1.4, 0.3, 'Iris-setosa')\n",
            " (5.1, 3.8, 1.6, 0.2, 'Iris-setosa') (4.6, 3.2, 1.4, 0.2, 'Iris-setosa')\n",
            " (5.3, 3.7, 1.5, 0.2, 'Iris-setosa') (5. , 3.3, 1.4, 0.2, 'Iris-setosa')\n",
            " (7. , 3.2, 4.7, 1.4, 'Iris-versicolor')\n",
            " (6.4, 3.2, 4.5, 1.5, 'Iris-versicolor')\n",
            " (6.9, 3.1, 4.9, 1.5, 'Iris-versicolor')\n",
            " (5.5, 2.3, 4. , 1.3, 'Iris-versicolor')\n",
            " (6.5, 2.8, 4.6, 1.5, 'Iris-versicolor')\n",
            " (5.7, 2.8, 4.5, 1.3, 'Iris-versicolor')\n",
            " (6.3, 3.3, 4.7, 1.6, 'Iris-versicolor')\n",
            " (4.9, 2.4, 3.3, 1. , 'Iris-versicolor')\n",
            " (6.6, 2.9, 4.6, 1.3, 'Iris-versicolor')\n",
            " (5.2, 2.7, 3.9, 1.4, 'Iris-versicolor')\n",
            " (5. , 2. , 3.5, 1. , 'Iris-versicolor')\n",
            " (5.9, 3. , 4.2, 1.5, 'Iris-versicolor')\n",
            " (6. , 2.2, 4. , 1. , 'Iris-versicolor')\n",
            " (6.1, 2.9, 4.7, 1.4, 'Iris-versicolor')\n",
            " (5.6, 2.9, 3.6, 1.3, 'Iris-versicolor')\n",
            " (6.7, 3.1, 4.4, 1.4, 'Iris-versicolor')\n",
            " (5.6, 3. , 4.5, 1.5, 'Iris-versicolor')\n",
            " (5.8, 2.7, 4.1, 1. , 'Iris-versicolor')\n",
            " (6.2, 2.2, 4.5, 1.5, 'Iris-versicolor')\n",
            " (5.6, 2.5, 3.9, 1.1, 'Iris-versicolor')\n",
            " (5.9, 3.2, 4.8, 1.8, 'Iris-versicolor')\n",
            " (6.1, 2.8, 4. , 1.3, 'Iris-versicolor')\n",
            " (6.3, 2.5, 4.9, 1.5, 'Iris-versicolor')\n",
            " (6.1, 2.8, 4.7, 1.2, 'Iris-versicolor')\n",
            " (6.4, 2.9, 4.3, 1.3, 'Iris-versicolor')\n",
            " (6.6, 3. , 4.4, 1.4, 'Iris-versicolor')\n",
            " (6.8, 2.8, 4.8, 1.4, 'Iris-versicolor')\n",
            " (6.7, 3. , 5. , 1.7, 'Iris-versicolor')\n",
            " (6. , 2.9, 4.5, 1.5, 'Iris-versicolor')\n",
            " (5.7, 2.6, 3.5, 1. , 'Iris-versicolor')\n",
            " (5.5, 2.4, 3.8, 1.1, 'Iris-versicolor')\n",
            " (5.5, 2.4, 3.7, 1. , 'Iris-versicolor')\n",
            " (5.8, 2.7, 3.9, 1.2, 'Iris-versicolor')\n",
            " (6. , 2.7, 5.1, 1.6, 'Iris-versicolor')\n",
            " (5.4, 3. , 4.5, 1.5, 'Iris-versicolor')\n",
            " (6. , 3.4, 4.5, 1.6, 'Iris-versicolor')\n",
            " (6.7, 3.1, 4.7, 1.5, 'Iris-versicolor')\n",
            " (6.3, 2.3, 4.4, 1.3, 'Iris-versicolor')\n",
            " (5.6, 3. , 4.1, 1.3, 'Iris-versicolor')\n",
            " (5.5, 2.5, 4. , 1.3, 'Iris-versicolor')\n",
            " (5.5, 2.6, 4.4, 1.2, 'Iris-versicolor')\n",
            " (6.1, 3. , 4.6, 1.4, 'Iris-versicolor')\n",
            " (5.8, 2.6, 4. , 1.2, 'Iris-versicolor')\n",
            " (5. , 2.3, 3.3, 1. , 'Iris-versicolor')\n",
            " (5.6, 2.7, 4.2, 1.3, 'Iris-versicolor')\n",
            " (5.7, 3. , 4.2, 1.2, 'Iris-versicolor')\n",
            " (5.7, 2.9, 4.2, 1.3, 'Iris-versicolor')\n",
            " (6.2, 2.9, 4.3, 1.3, 'Iris-versicolor')\n",
            " (5.1, 2.5, 3. , 1.1, 'Iris-versicolor')\n",
            " (5.7, 2.8, 4.1, 1.3, 'Iris-versicolor')\n",
            " (6.3, 3.3, 6. , 2.5, 'Iris-virginica')\n",
            " (5.8, 2.7, 5.1, 1.9, 'Iris-virginica')\n",
            " (7.1, 3. , 5.9, 2.1, 'Iris-virginica')\n",
            " (6.3, 2.9, 5.6, 1.8, 'Iris-virginica')\n",
            " (6.5, 3. , 5.8, 2.2, 'Iris-virginica')\n",
            " (7.6, 3. , 6.6, 2.1, 'Iris-virginica')\n",
            " (4.9, 2.5, 4.5, 1.7, 'Iris-virginica')\n",
            " (7.3, 2.9, 6.3, 1.8, 'Iris-virginica')\n",
            " (6.7, 2.5, 5.8, 1.8, 'Iris-virginica')\n",
            " (7.2, 3.6, 6.1, 2.5, 'Iris-virginica')\n",
            " (6.5, 3.2, 5.1, 2. , 'Iris-virginica')\n",
            " (6.4, 2.7, 5.3, 1.9, 'Iris-virginica')\n",
            " (6.8, 3. , 5.5, 2.1, 'Iris-virginica')\n",
            " (5.7, 2.5, 5. , 2. , 'Iris-virginica')\n",
            " (5.8, 2.8, 5.1, 2.4, 'Iris-virginica')\n",
            " (6.4, 3.2, 5.3, 2.3, 'Iris-virginica')\n",
            " (6.5, 3. , 5.5, 1.8, 'Iris-virginica')\n",
            " (7.7, 3.8, 6.7, 2.2, 'Iris-virginica')\n",
            " (7.7, 2.6, 6.9, 2.3, 'Iris-virginica')\n",
            " (6. , 2.2, 5. , 1.5, 'Iris-virginica')\n",
            " (6.9, 3.2, 5.7, 2.3, 'Iris-virginica')\n",
            " (5.6, 2.8, 4.9, 2. , 'Iris-virginica')\n",
            " (7.7, 2.8, 6.7, 2. , 'Iris-virginica')\n",
            " (6.3, 2.7, 4.9, 1.8, 'Iris-virginica')\n",
            " (6.7, 3.3, 5.7, 2.1, 'Iris-virginica')\n",
            " (7.2, 3.2, 6. , 1.8, 'Iris-virginica')\n",
            " (6.2, 2.8, 4.8, 1.8, 'Iris-virginica')\n",
            " (6.1, 3. , 4.9, 1.8, 'Iris-virginica')\n",
            " (6.4, 2.8, 5.6, 2.1, 'Iris-virginica')\n",
            " (7.2, 3. , 5.8, 1.6, 'Iris-virginica')\n",
            " (7.4, 2.8, 6.1, 1.9, 'Iris-virginica')\n",
            " (7.9, 3.8, 6.4, 2. , 'Iris-virginica')\n",
            " (6.4, 2.8, 5.6, 2.2, 'Iris-virginica')\n",
            " (6.3, 2.8, 5.1, 1.5, 'Iris-virginica')\n",
            " (6.1, 2.6, 5.6, 1.4, 'Iris-virginica')\n",
            " (7.7, 3. , 6.1, 2.3, 'Iris-virginica')\n",
            " (6.3, 3.4, 5.6, 2.4, 'Iris-virginica')\n",
            " (6.4, 3.1, 5.5, 1.8, 'Iris-virginica')\n",
            " (6. , 3. , 4.8, 1.8, 'Iris-virginica')\n",
            " (6.9, 3.1, 5.4, 2.1, 'Iris-virginica')\n",
            " (6.7, 3.1, 5.6, 2.4, 'Iris-virginica')\n",
            " (6.9, 3.1, 5.1, 2.3, 'Iris-virginica')\n",
            " (5.8, 2.7, 5.1, 1.9, 'Iris-virginica')\n",
            " (6.8, 3.2, 5.9, 2.3, 'Iris-virginica')\n",
            " (6.7, 3.3, 5.7, 2.5, 'Iris-virginica')\n",
            " (6.7, 3. , 5.2, 2.3, 'Iris-virginica')\n",
            " (6.3, 2.5, 5. , 1.9, 'Iris-virginica')\n",
            " (6.5, 3. , 5.2, 2. , 'Iris-virginica')\n",
            " (6.2, 3.4, 5.4, 2.3, 'Iris-virginica')\n",
            " (5.9, 3. , 5.1, 1.8, 'Iris-virginica')]\n"
          ]
        }
      ],
      "source": [
        "data1 = np.genfromtxt(data_path, delimiter=\",\", dtype=None)\n",
        "print('Shape of the dataset:', data1.shape)\n",
        "print('Dataset type:', type(data1))\n",
        "print('A single row of the dataset is type of:', type(data1[0]))\n",
        "print('Types of elements:', type(data1[0][1]), type(data1[0][4]))\n",
        "print('Dataset:')\n",
        "print(data1)"
      ]
    },
    {
      "cell_type": "markdown",
      "metadata": {
        "id": "RIYW2mlDDlLU"
      },
      "source": [
        "### Указание типа столбцов при загрузке данных"
      ]
    },
    {
      "cell_type": "code",
      "execution_count": null,
      "metadata": {
        "ExecuteTime": {
          "end_time": "2022-08-22T15:50:59.019675Z",
          "start_time": "2022-08-22T15:50:59.010669Z"
        },
        "colab": {
          "base_uri": "https://localhost:8080/"
        },
        "id": "jo7IGpavDlLU",
        "outputId": "c494e7c7-cf78-4e0b-ad31-6ea7b54a96ed"
      },
      "outputs": [
        {
          "output_type": "stream",
          "name": "stdout",
          "text": [
            "Shape of the dataset: (150,)\n",
            "Dataset type: <class 'numpy.ndarray'>\n",
            "A single row of the dataset is type of: <class 'numpy.void'>\n",
            "Types of elements: <class 'numpy.float64'> <class 'numpy.str_'>\n",
            "Dataset slice:\n",
            "[(5.1, 3.5, 1.4, 0.2, 'Iris-setosa') (4.9, 3. , 1.4, 0.2, 'Iris-setosa')\n",
            " (4.7, 3.2, 1.3, 0.2, 'Iris-setosa') (4.6, 3.1, 1.5, 0.2, 'Iris-setosa')\n",
            " (5. , 3.6, 1.4, 0.2, 'Iris-setosa') (5.4, 3.9, 1.7, 0.4, 'Iris-setosa')\n",
            " (4.6, 3.4, 1.4, 0.3, 'Iris-setosa') (5. , 3.4, 1.5, 0.2, 'Iris-setosa')\n",
            " (4.4, 2.9, 1.4, 0.2, 'Iris-setosa') (4.9, 3.1, 1.5, 0.1, 'Iris-setosa')]\n"
          ]
        }
      ],
      "source": [
        "dt = np.dtype(\"f8, f8, f8, f8, U30\")\n",
        "data2 = np.genfromtxt(data_path, delimiter=\",\", dtype=dt)\n",
        "print('Shape of the dataset:', data2.shape)\n",
        "print('Dataset type:', type(data2))\n",
        "print('A single row of the dataset is type of:', type(data2[0]))\n",
        "print('Types of elements:', type(data2[0][1]), type(data2[0][4]))\n",
        "print('Dataset slice:')\n",
        "print(data2[:10])"
      ]
    },
    {
      "cell_type": "markdown",
      "metadata": {
        "id": "_zYCLCz1DlLU"
      },
      "source": [
        "### Построение графиков с использованием Matplotlib"
      ]
    },
    {
      "cell_type": "code",
      "execution_count": null,
      "metadata": {
        "ExecuteTime": {
          "end_time": "2022-08-22T15:51:05.402528Z",
          "start_time": "2022-08-22T15:51:01.482184Z"
        },
        "colab": {
          "base_uri": "https://localhost:8080/",
          "height": 1000
        },
        "id": "JY7JW0tBDlLV",
        "outputId": "7966088a-4876-4c66-e89d-004e54e39932"
      },
      "outputs": [
        {
          "output_type": "display_data",
          "data": {
            "text/plain": [
              "<Figure size 640x480 with 1 Axes>"
            ],
            "image/png": "[encoded data removed]"
          },
          "metadata": {}
        },
        {
          "output_type": "display_data",
          "data": {
            "text/plain": [
              "<Figure size 640x480 with 1 Axes>"
            ],
            "image/png": "[encoded data removed]"
          },
          "metadata": {}
        },
        {
          "output_type": "display_data",
          "data": {
            "text/plain": [
              "<Figure size 640x480 with 1 Axes>"
            ],
            "image/png": "[encoded data removed]"
          },
          "metadata": {}
        }
      ],
      "source": [
        "import matplotlib as mpl\n",
        "import matplotlib.pyplot as plt\n",
        "%matplotlib inline\n",
        "\n",
        "# Данные из отдельных столбцов\n",
        "sepal_length = [] # Sepal Length\n",
        "sepal_width = [] # Sepal Width\n",
        "petal_length = [] # Petal Length\n",
        "petal_width = [] # Petal Width\n",
        "\n",
        "# Выполняем обход всей коллекции data2\n",
        "for dot in data2:\n",
        "    sepal_length.append(dot[0])\n",
        "    sepal_width.append(dot[1])\n",
        "    petal_length.append(dot[2])\n",
        "    petal_width.append(dot[3])\n",
        "\n",
        "# Строим графики по проекциям данных\n",
        "# Учитываем, что каждые 50 типов ирисов идут последовательно\n",
        "plt.figure(1)\n",
        "setosa, = plt.plot(sepal_length[:50], sepal_width[:50], 'ro', label='Setosa')\n",
        "versicolor, = plt.plot(sepal_length[50:100], sepal_width[50:100], 'g^', label='Versicolor')\n",
        "virginica, = plt.plot(sepal_length[100:150], sepal_width[100:150], 'bs', label='Verginica')\n",
        "plt.legend(bbox_to_anchor=(1.05, 1), loc=2, borderaxespad=0.)\n",
        "plt.xlabel('Sepal Length')\n",
        "plt.ylabel('Sepal Width')\n",
        "\n",
        "plt.figure(2)\n",
        "setosa, = plt.plot(sepal_length[:50], petal_length[:50], 'ro', label='Setosa')\n",
        "versicolor, = plt.plot(sepal_length[50:100], petal_length[50:100], 'g^', label='Versicolor')\n",
        "virginica, = plt.plot(sepal_length[100:150], petal_length[100:150], 'bs', label='Verginica')\n",
        "plt.legend(bbox_to_anchor=(1.05, 1), loc=2, borderaxespad=0.)\n",
        "plt.xlabel('Sepal Length')\n",
        "plt.ylabel('Petal Length')\n",
        "\n",
        "plt.figure(3)\n",
        "setosa, = plt.plot(sepal_length[:50], petal_width[:50], 'ro', label='Setosa')\n",
        "versicolor, = plt.plot(sepal_length[50:100], petal_width[50:100], 'g^', label='Versicolor')\n",
        "virginica, = plt.plot(sepal_length[100:150], petal_width[100:150], 'bs', label='Verginica')\n",
        "plt.legend(bbox_to_anchor=(1.05, 1), loc=2, borderaxespad=0.)\n",
        "plt.xlabel('Sepal Length')\n",
        "plt.ylabel('Petal Width')\n",
        "\n",
        "plt.show()\n",
        "\n"
      ]
    },
    {
      "cell_type": "markdown",
      "source": [
        "##Контрольные вопросы\n",
        "1.\n",
        "**Какие инструментальные средства используются для организации\n",
        "рабочего места специалиста Data Science? <br>**\n",
        "\n",
        "Специалисты Data Science используют следующие инструментальные средства:\n",
        "\n",
        "IDE (Integrated Development Environment): Такие как PyCharm, Jupyter Notebook, Visual Studio Code.\n",
        "\n",
        "Библиотеки Python: Включая NumPy, pandas, scikit-learn, TensorFlow, PyTorch, Matplotlib, Seaborn.\n",
        "\n",
        "Облачные платформы: Google Colab, AWS SageMaker, Microsoft Azure.\n",
        "\n",
        "Системы управления версиями: Git и GitHub.\n",
        "\n",
        "Базы данных: SQL (PostgreSQL, MySQL), NoSQL (MongoDB).\n",
        "\n",
        "Инструменты для визуализации данных: Tableau, Power BI.\n",
        "\n",
        "Инструменты для управления проектами: Trello, Jira.\n",
        "\n",
        "2. **Какие библиотеки Python используются для работы в области машинного\n",
        "обучения? Дайте краткую характеристику каждой библиотеке. <br>**\n",
        "\n",
        "NumPy: Библиотека для работы с массивами и матрицами. Основа для многих других библиотек, таких как pandas и scikit-learn.\n",
        "\n",
        "pandas: Библиотека для обработки и анализа данных. Предоставляет структуры данных, такие как DataFrame, для удобной работы с табличными данными.\n",
        "\n",
        "scikit-learn: Библиотека для машинного обучения. Включает алгоритмы для классификации, регрессии, кластеризации и др.\n",
        "\n",
        "TensorFlow: Библиотека для построения и обучения нейронных сетей. Разработана Google и широко используется в глубоких нейронных сетях.\n",
        "\n",
        "PyTorch: Библиотека для построения и обучения нейронных сетей. Разработана Facebook и известна своей гибкостью и динамическим графом вычислений.\n",
        "\n",
        "Matplotlib: Библиотека для построения графиков и визуализации данных. Основа для многих других библиотек визуализации.\n",
        "\n",
        "Seaborn: Библиотека для статистической визуализации данных. Построена на Matplotlib и предоставляет более высокоуровневые функции для создания сложных графиков.\n",
        "\n",
        "Keras: Высокоуровневая библиотека для построения нейронных сетей. Может работать поверх TensorFlow или Theano.\n",
        "3. **Почему при реализации систем машинного обучения широкое\n",
        "распространение получили библиотеки Python?**\n",
        "\n",
        "Библиотеки Python широко используются в машинном обучении из-за их простоты, гибкости, богатой экосистемы, активного сообщества и многоплатформенности.\n",
        "\n"
      ],
      "metadata": {
        "id": "u0TKzDLcYZr6"
      }
    }
  ]
}