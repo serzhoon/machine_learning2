{
  "nbformat": 4,
  "nbformat_minor": 0,
  "metadata": {
    "colab": {
      "provenance": [],
      "authorship_tag": "ABX9TyM5a/Ac+aZqdWVjLAZjxSp1"
    },
    "kernelspec": {
      "name": "python3",
      "display_name": "Python 3"
    },
    "language_info": {
      "name": "python"
    }
  },
  "cells": [
    {
      "cell_type": "markdown",
      "source": [
        "# Практическая работа 4. Данные в формате CSV"
      ],
      "metadata": {
        "id": "C3DZeo7xi2HL"
      }
    },
    {
      "cell_type": "markdown",
      "source": [
        "###Выполнил студент ПИН-Б-З-22-1 Гадиян Сергей Гариевич<br>\n",
        "##Индивидуальное задание находится в конце"
      ],
      "metadata": {
        "id": "as1fPduQBfqp"
      }
    },
    {
      "cell_type": "markdown",
      "source": [
        "## Задание"
      ],
      "metadata": {
        "id": "8wIyzax9q7JF"
      }
    },
    {
      "cell_type": "markdown",
      "source": [
        "В data_v3.csv присутствуют следующие поля: `ID` – уникальный ключ записи; `LastName`, `firstName` – фамилия и имя держателя карты; `email` – электронная почта; `Plus` и `Minus` – суммы поступлений и списаний по карте соответственно в долларах; `credit_card` – номер карты; `Tax` – уплаченный налог.\n",
        "Необходимо ответить на следующий вопросы:\n",
        "1. Найдите держателя карты с максимальной прибылью. В ответе необходимо указать ФИО держателя и максимальную прибыль (прибыль = поступления – списания).\n",
        "2. Найдите количество держателей карт, у которых сумма уплаченного налога больше среднего арифметического значения налога по всей выборке.\n"
      ],
      "metadata": {
        "id": "pwmyfJoJb5sg"
      }
    },
    {
      "cell_type": "markdown",
      "source": [
        "## Анализ задания, получение данных"
      ],
      "metadata": {
        "id": "RGlwZaXQrAfd"
      }
    },
    {
      "cell_type": "markdown",
      "source": [
        "Файл data_v3.txt расположен репозитории. Выполним копирование файла в локальное хранилище Google Colab, используя следующую команду:"
      ],
      "metadata": {
        "id": "dusmGf0PoHeU"
      }
    },
    {
      "cell_type": "code",
      "execution_count": 2,
      "metadata": {
        "id": "GRcewQyGh7dD",
        "colab": {
          "base_uri": "https://localhost:8080/"
        },
        "outputId": "8ad8e85c-b863-4122-fbe4-f3681d13f99c"
      },
      "outputs": [
        {
          "output_type": "stream",
          "name": "stdout",
          "text": [
            "--2025-06-10 20:52:22--  https://raw.githubusercontent.com/enikolaev/IT-and-Programming/main/data/data_v3.csv\n",
            "Resolving raw.githubusercontent.com (raw.githubusercontent.com)... 185.199.108.133, 185.199.109.133, 185.199.110.133, ...\n",
            "Connecting to raw.githubusercontent.com (raw.githubusercontent.com)|185.199.108.133|:443... connected.\n",
            "HTTP request sent, awaiting response... 200 OK\n",
            "Length: 92780 (91K) [text/plain]\n",
            "Saving to: ‘data_v3.csv’\n",
            "\n",
            "\rdata_v3.csv           0%[                    ]       0  --.-KB/s               \rdata_v3.csv         100%[===================>]  90.61K  --.-KB/s    in 0.02s   \n",
            "\n",
            "2025-06-10 20:52:22 (3.68 MB/s) - ‘data_v3.csv’ saved [92780/92780]\n",
            "\n"
          ]
        }
      ],
      "source": [
        "!wget https://raw.githubusercontent.com/enikolaev/IT-and-Programming/main/data/data_v3.csv\n"
      ]
    },
    {
      "cell_type": "markdown",
      "source": [
        "Можно скопировать и поместить файл с данными любым удобным способом"
      ],
      "metadata": {
        "id": "hupq--jq0PA3"
      }
    },
    {
      "cell_type": "markdown",
      "source": [
        "Реализуем чтение всего файла построчно. Используем метод `open()`, а затем будем обходить файл как коллекцию с использованием цикла `for line in File`. Очевидно, что csv-файл используется в данной работе как обычный текстовый файл и в цикле `for` производится последовательный обход всех строк этого файла, то есть текстовый файл - это коллекция его строк.\n",
        "В файле много строк, поэтому будем выводить только первые `n_to_print` строк, но обрабатывать будем все (чтобы не возникло скрытых ошибок)"
      ],
      "metadata": {
        "id": "YlvR9gr-9qJY"
      }
    },
    {
      "cell_type": "code",
      "source": [
        "F=open('data_v3.csv')\n",
        "n_to_print=10\n",
        "for line in F:\n",
        "  n_to_print-=1\n",
        "  if n_to_print>0:\n",
        "    print(line)"
      ],
      "metadata": {
        "colab": {
          "base_uri": "https://localhost:8080/"
        },
        "id": "GzShFx3l0l49",
        "outputId": "bec7d00e-3e8d-445b-b258-e907f0ee4bf8"
      },
      "execution_count": null,
      "outputs": [
        {
          "output_type": "stream",
          "name": "stdout",
          "text": [
            "ID,LastName,FirstName,email,Plus,Minus,credit_card,Tax\n",
            "\n",
            "12-9321320,Pickle,Réjane,,$41564.80,$46160.22,3557725016917448,$16408.20\n",
            "\n",
            "14-4213773,Hartford,Léa,,$46310.29,$13116.21,3544948067779642,$13397.19\n",
            "\n",
            "92-0579703,Caldecott,Adélaïde,lcaldecott2@com.com,$44330.64,$9725.39,4508863396652307,$35768.27\n",
            "\n",
            "43-3066209,Dohrmann,Cloé,odohrmann3@gov.uk,$32271.10,$33467.96,6398709109212517,$3876.95\n",
            "\n",
            "39-1753452,Pes,Zhì,dpes4@trellian.com,$24467.01,$5220.55,3562917312487449,$5559.11\n",
            "\n",
            "98-1640163,Satyford,Pénélope,asatyford5@friendfeed.com,$31883.05,$11529.92,3564171803659243,$5939.26\n",
            "\n",
            "58-9143184,Corballis,Clémentine,scorballis6@mapquest.com,$25340.90,$3241.86,341075109903237,$45625.23\n",
            "\n",
            "87-3594410,Hiseman,Bénédicte,chiseman7@sciencedirect.com,$46081.76,$36954.21,3548420880126084,$19464.18\n",
            "\n"
          ]
        }
      ]
    },
    {
      "cell_type": "markdown",
      "source": [
        "Строки перебираются, но теперь необходимо разделить единую строку на отдельные элементы данных. Для этого выполним метод `split(sep)`, который разрезает строку, используя символ `sep` в качестве разделителя. Также обратим внимание на тот факт, что в первой строке содержатся не данные, а заголовки столбцов."
      ],
      "metadata": {
        "id": "7F4tUxgX1dwL"
      }
    },
    {
      "cell_type": "code",
      "source": [
        "# доработка предыдущего кода\n",
        "F=open('data_v3.csv')\n",
        "header = F.readline().strip().split(',')\n",
        "print(header)\n",
        "print('-'*20)\n",
        "n_to_print=10\n",
        "for line in F:\n",
        "  # производим обработку в любом случае ...\n",
        "  data = line.strip().split(',')\n",
        "  # ... аа печатаем только первые n_to_print\n",
        "  n_to_print-=1\n",
        "  if n_to_print>0:\n",
        "    print(data)"
      ],
      "metadata": {
        "colab": {
          "base_uri": "https://localhost:8080/"
        },
        "id": "MfetHR3Jfs9W",
        "outputId": "02c7daa7-01b5-4f64-d75b-d33c12f23551"
      },
      "execution_count": null,
      "outputs": [
        {
          "output_type": "stream",
          "name": "stdout",
          "text": [
            "['ID', 'LastName', 'FirstName', 'email', 'Plus', 'Minus', 'credit_card', 'Tax']\n",
            "--------------------\n",
            "['12-9321320', 'Pickle', 'Réjane', '', '$41564.80', '$46160.22', '3557725016917448', '$16408.20']\n",
            "['14-4213773', 'Hartford', 'Léa', '', '$46310.29', '$13116.21', '3544948067779642', '$13397.19']\n",
            "['92-0579703', 'Caldecott', 'Adélaïde', 'lcaldecott2@com.com', '$44330.64', '$9725.39', '4508863396652307', '$35768.27']\n",
            "['43-3066209', 'Dohrmann', 'Cloé', 'odohrmann3@gov.uk', '$32271.10', '$33467.96', '6398709109212517', '$3876.95']\n",
            "['39-1753452', 'Pes', 'Zhì', 'dpes4@trellian.com', '$24467.01', '$5220.55', '3562917312487449', '$5559.11']\n",
            "['98-1640163', 'Satyford', 'Pénélope', 'asatyford5@friendfeed.com', '$31883.05', '$11529.92', '3564171803659243', '$5939.26']\n",
            "['58-9143184', 'Corballis', 'Clémentine', 'scorballis6@mapquest.com', '$25340.90', '$3241.86', '341075109903237', '$45625.23']\n",
            "['87-3594410', 'Hiseman', 'Bénédicte', 'chiseman7@sciencedirect.com', '$46081.76', '$36954.21', '3548420880126084', '$19464.18']\n",
            "['74-7031522', 'Easton', 'Mà', '', '$37139.51', '$14322.80', '3528412919441844', '$44003.80']\n"
          ]
        }
      ]
    },
    {
      "cell_type": "markdown",
      "source": [
        "Метод `split()` вернул список отдельных строк - полстрок исходной строки. Теперь необходимо сформировать структуру данных максимально полно описывающую предметную область.\n",
        "Для этого сформируем список словарей, то есть все данные в процессе чтения будем построчно перемещать в список `all_clients`, при этом каждый клиент будет представлен в виде словаря. Например первая строка в файле будет выглядеть следующим образом:\n",
        "\n",
        "`example = {'ID' : '12-9321320', 'LastName':'Pickle', 'FirstName':'Réjane', 'email':None, 'Plus':41564.80, 'Minus':46160.22, 'credit_card':'3557725016917448', 'Tax':16408.20}`"
      ],
      "metadata": {
        "id": "Ih9fLQW3gAYf"
      }
    },
    {
      "cell_type": "markdown",
      "source": [
        "то есть будет сформирована структура данных в которой все элементыы представляют собой пары вида `ключ` : `значение`, при этом как и в списке возможно обращение к элементамм данной структуры по индексу, только в словарях вместо целочисленного индекса используется ключ.\n",
        "Например, применительно к первой строке, обратиться к сумме поступления для ее печати можно следующим образом:\n",
        "\n",
        "`print( example['Plus'] )`"
      ],
      "metadata": {
        "id": "ujQ4VL6ukC3I"
      }
    },
    {
      "cell_type": "code",
      "source": [
        "# Доработаем предыдущий скрипт\n",
        "F=open('data_v3.csv')\n",
        "header = F.readline().strip().split(',')\n",
        "\n",
        "# список всех клиентов\n",
        "all_clients=[]\n",
        "\n",
        "for line in F:\n",
        "  data = line.strip().split(',')\n",
        "  client = {} # создаем пустой словарь\n",
        "  for i, key in enumerate(header): # обходим все заголовки\n",
        "    client[key] = data[i] # добавляем в словарь клюс:значение\n",
        "\n",
        "  # некоторые значения придется конвертировать к подходящим типам\n",
        "  client['Minus'] = float(client['Minus'][1:])\n",
        "  client['Plus'] = float(client['Plus'][1:])\n",
        "  client['Tax'] = float(client['Tax'][1:])\n",
        "\n",
        "  all_clients.append(client) # добавляем клиента в скписок\n",
        "\n",
        "print(all_clients[:10]) # напечатаем первых 10 клиентов\n",
        "\n",
        "F.close() # файл больше не нужен"
      ],
      "metadata": {
        "colab": {
          "base_uri": "https://localhost:8080/"
        },
        "id": "2cjhX1fQiQFO",
        "outputId": "bd3a366d-f379-450b-aea3-5cfe5c038777"
      },
      "execution_count": null,
      "outputs": [
        {
          "output_type": "stream",
          "name": "stdout",
          "text": [
            "[{'ID': '12-9321320', 'LastName': 'Pickle', 'FirstName': 'Réjane', 'email': '', 'Plus': 41564.8, 'Minus': 46160.22, 'credit_card': '3557725016917448', 'Tax': 16408.2}, {'ID': '14-4213773', 'LastName': 'Hartford', 'FirstName': 'Léa', 'email': '', 'Plus': 46310.29, 'Minus': 13116.21, 'credit_card': '3544948067779642', 'Tax': 13397.19}, {'ID': '92-0579703', 'LastName': 'Caldecott', 'FirstName': 'Adélaïde', 'email': 'lcaldecott2@com.com', 'Plus': 44330.64, 'Minus': 9725.39, 'credit_card': '4508863396652307', 'Tax': 35768.27}, {'ID': '43-3066209', 'LastName': 'Dohrmann', 'FirstName': 'Cloé', 'email': 'odohrmann3@gov.uk', 'Plus': 32271.1, 'Minus': 33467.96, 'credit_card': '6398709109212517', 'Tax': 3876.95}, {'ID': '39-1753452', 'LastName': 'Pes', 'FirstName': 'Zhì', 'email': 'dpes4@trellian.com', 'Plus': 24467.01, 'Minus': 5220.55, 'credit_card': '3562917312487449', 'Tax': 5559.11}, {'ID': '98-1640163', 'LastName': 'Satyford', 'FirstName': 'Pénélope', 'email': 'asatyford5@friendfeed.com', 'Plus': 31883.05, 'Minus': 11529.92, 'credit_card': '3564171803659243', 'Tax': 5939.26}, {'ID': '58-9143184', 'LastName': 'Corballis', 'FirstName': 'Clémentine', 'email': 'scorballis6@mapquest.com', 'Plus': 25340.9, 'Minus': 3241.86, 'credit_card': '341075109903237', 'Tax': 45625.23}, {'ID': '87-3594410', 'LastName': 'Hiseman', 'FirstName': 'Bénédicte', 'email': 'chiseman7@sciencedirect.com', 'Plus': 46081.76, 'Minus': 36954.21, 'credit_card': '3548420880126084', 'Tax': 19464.18}, {'ID': '74-7031522', 'LastName': 'Easton', 'FirstName': 'Mà', 'email': '', 'Plus': 37139.51, 'Minus': 14322.8, 'credit_card': '3528412919441844', 'Tax': 44003.8}, {'ID': '86-6585171', 'LastName': 'Biasotti', 'FirstName': 'Sòng', 'email': 'mbiasotti9@xrea.com', 'Plus': 48030.9, 'Minus': 31800.42, 'credit_card': '3558072029644498', 'Tax': 4110.14}]\n"
          ]
        }
      ]
    },
    {
      "cell_type": "markdown",
      "source": [
        "## Решение задачи 1"
      ],
      "metadata": {
        "id": "Xs4oLWFl2eGJ"
      }
    },
    {
      "cell_type": "markdown",
      "source": [
        "Первая задача:\n",
        "Найдите держателя карты с максимальной прибылью. В ответе необходимо указать ФИО держателя и максимальную прибыль (прибыль = поступления – списания).\n",
        "\n",
        "Переберем все элементы в списке `all_clients` и выберем клиента с максимальной разницей `client['Plus'] - client['Minus']`\n",
        "\n"
      ],
      "metadata": {
        "id": "HD07G40-3FNH"
      }
    },
    {
      "cell_type": "code",
      "source": [
        "# переменные для хранения целевого клиента и максимальной прибыли\n",
        "target_client=[]\n",
        "max_profit=0\n",
        "\n",
        "for client in all_clients:\n",
        "  if client['Plus'] - client['Minus'] > max_profit:\n",
        "    max_profit = client['Plus'] - client['Minus']\n",
        "    target_client = client\n",
        "\n",
        "print('Максимальная прибыль: ', max_profit)\n",
        "print('Клиент с максимальной прибылью', target_client)"
      ],
      "metadata": {
        "id": "SHaDC2Tl2-YB",
        "colab": {
          "base_uri": "https://localhost:8080/"
        },
        "outputId": "bc0c28c8-eaa1-4b9a-cde7-7ff16658afc7"
      },
      "execution_count": null,
      "outputs": [
        {
          "output_type": "stream",
          "name": "stdout",
          "text": [
            "Максимальная прибыль:  45913.590000000004\n",
            "Клиент с максимальной прибылью {'ID': '98-9398689', 'LastName': 'Lingwood', 'FirstName': 'Maïté', 'email': 'mlingwood1y@wordpress.com', 'Plus': 47412.86, 'Minus': 1499.27, 'credit_card': '201561279094179', 'Tax': 23816.11}\n"
          ]
        }
      ]
    },
    {
      "cell_type": "markdown",
      "source": [
        "## Решение задачи 2"
      ],
      "metadata": {
        "id": "9ky-Ji8ppVb9"
      }
    },
    {
      "cell_type": "markdown",
      "source": [
        "Вторая задача: Найдите количество держателей карт, у которых сумма уплаченного налога больше среднего арифметического значения налога по всей выборке.\n",
        "\n",
        "Задачу можно решить также перебором всей выборки, но предварительно необходимо определить среднее значение уплаченных налогов"
      ],
      "metadata": {
        "id": "0wmxLp6zBcdo"
      }
    },
    {
      "cell_type": "code",
      "source": [
        "# Определим среднее значение нолога\n",
        "total_tax = 0\n",
        "count_tax = len(all_clients)\n",
        "\n",
        "for client in all_clients:\n",
        "  total_tax += client['Tax']\n",
        "\n",
        "avg_tax = total_tax / count_tax\n",
        "\n",
        "print('Среднее значение налога = %.2f' % avg_tax)\n",
        "\n",
        "counter=0\n",
        "for client in all_clients:\n",
        "  if client['Tax'] > avg_tax:\n",
        "    counter+=1\n",
        "\n",
        "print('Количество клиентов с налогом выше среднего: ', counter)"
      ],
      "metadata": {
        "colab": {
          "base_uri": "https://localhost:8080/"
        },
        "id": "v5SpmCokphuJ",
        "outputId": "7676ff51-8f26-4112-8068-a4a483a000d3"
      },
      "execution_count": null,
      "outputs": [
        {
          "output_type": "stream",
          "name": "stdout",
          "text": [
            "Среднее значение налога = 24939.93\n",
            "Количество клиентов с налогом выше среднего:  489\n"
          ]
        }
      ]
    },
    {
      "cell_type": "markdown",
      "source": [
        "В данной работе были использованы операторы `if` (условный оператор), `for ... in range(...)` (оператор цикла с обходом диапазона). Применялись функции `print()`, `len()`, `max()`. В работе использовался тип данных `dict()`"
      ],
      "metadata": {
        "id": "kfm23877A4o2"
      }
    },
    {
      "cell_type": "markdown",
      "source": [
        "##Индивидуальное задание"
      ],
      "metadata": {
        "id": "4KI5M1qTCg8P"
      }
    },
    {
      "cell_type": "markdown",
      "source": [
        "Вариант 4\n",
        "1. Количество сотрудников в каждой из 4-х компаний;\n",
        "2. Среднюю з/п в каждой из 4-х компаний;\n",
        "3. Количество сотрудников, владеющих английским языком;\n",
        "4. Количество сотрудников, получающих более $3000,00."
      ],
      "metadata": {
        "id": "sLxG5PLcEi4J"
      }
    },
    {
      "cell_type": "markdown",
      "source": [
        "Получим файл с нашим вариантом (4)."
      ],
      "metadata": {
        "id": "L2bNj9jeFBJr"
      }
    },
    {
      "cell_type": "code",
      "source": [
        "!wget https://raw.githubusercontent.com/enikolaev/IT-and-Programming/main/data/pract7/p7_data_04.csv"
      ],
      "metadata": {
        "colab": {
          "base_uri": "https://localhost:8080/"
        },
        "id": "6YrBXcbfEws_",
        "outputId": "a0fd7e3e-671a-4953-b15e-96024a5b0dea"
      },
      "execution_count": 14,
      "outputs": [
        {
          "output_type": "stream",
          "name": "stdout",
          "text": [
            "--2025-06-10 20:53:14--  https://raw.githubusercontent.com/enikolaev/IT-and-Programming/main/data/pract7/p7_data_04.csv\n",
            "Resolving raw.githubusercontent.com (raw.githubusercontent.com)... 185.199.108.133, 185.199.109.133, 185.199.110.133, ...\n",
            "Connecting to raw.githubusercontent.com (raw.githubusercontent.com)|185.199.108.133|:443... connected.\n",
            "HTTP request sent, awaiting response... 200 OK\n",
            "Length: 53585 (52K) [text/plain]\n",
            "Saving to: ‘p7_data_04.csv.1’\n",
            "\n",
            "\rp7_data_04.csv.1      0%[                    ]       0  --.-KB/s               \rp7_data_04.csv.1    100%[===================>]  52.33K  --.-KB/s    in 0.01s   \n",
            "\n",
            "2025-06-10 20:53:14 (4.11 MB/s) - ‘p7_data_04.csv.1’ saved [53585/53585]\n",
            "\n"
          ]
        }
      ]
    },
    {
      "cell_type": "code",
      "source": [
        "import csv  # импорт модуля для работы с CSV-файлами\n",
        "from collections import defaultdict  # импорт defaultdict для удобной работы со словарями\n",
        "# чтение данных из CSV-файла\n",
        "with open('p7_data_04.csv', 'r') as f:  # открываем файл для чтения\n",
        "  reader = csv.DictReader(f)  # создаем объект DictReader для чтения данных как словарей\n",
        "  data = list(reader)  # преобразуем данные в список словарей для удобной обработки\n",
        "#  Задача 1:Количество сотрудников в каждой компании\n",
        "company_counts = defaultdict(int)  # создаем словарь с автоматической инициализацией int\n",
        "for row in data:  # перебираем каждую строку данных\n",
        "  company_counts[row['Company']] += 1  # увеличиваем счетчик для текущей компании\n",
        "print(\"Количество сотрудников в каждой компании:\")  # выводим заголовок\n",
        "for company, count in company_counts.items():  # перебираем компании и их количество\n",
        "  print(f\"{company}: {count}\")  # выводим результат\n",
        "# Задание 2 Средняя зарплата в каждой компании\n",
        "company_salaries = defaultdict(list)  # словарь для хранения зарплат по компаниям\n",
        "for row in data:  # перебираем строки данных\n",
        "  salary = float(row['Salary'].replace('$', '').replace(',', ''))  # преобразуем зарплату в число\n",
        "company_salaries[row['Company']].append(salary)  # добавляем зарплату в список для компании\n",
        "print(\"\\nСредняя зарплата в каждой компании:\")  # выводим заголовок\n",
        "for company, salaries in company_salaries.items():  # перебираем компании и их зарплаты\n",
        "  avg_salary = sum(salaries) / len(salaries)  # вычисляем среднюю зарплату\n",
        "print(f\"{company}: ${avg_salary:.2f}\")  # выводим результат с 2 знаками после запятой\n",
        "# Задание 3 Количество сотрудников, владеющих английским языком\n",
        "english_speakers = 0  # инициализируем счетчик\n",
        "for row in data:  # перебираем строки данных\n",
        "  if 'English' in row['Language']:  # проверяем наличие английского в языках\n",
        "    english_speakers += 1  # увеличиваем счетчик\n",
        "print(f\"\\nКоличество сотрудников, владеющих английским: {english_speakers}\")  # Выводим результат\n",
        "# Задание 4 Количество сотрудников с зарплатой более $3000\n",
        "high_salary_employees = 0  # инициализируем счетчик\n",
        "for row in data:  # перебираем строки данных\n",
        "  salary = float(row['Salary'].replace('$', '').replace(',', ''))  # преобразуем зарплату в число\n",
        "if salary > 3000:  # проверяем условие\n",
        "  high_salary_employees += 1  # увеличиваем счетчик\n",
        "print(f\"\\nКоличество сотрудников с зарплатой более $3000: {high_salary_employees}\")  # выводим результат"
      ],
      "metadata": {
        "colab": {
          "base_uri": "https://localhost:8080/"
        },
        "id": "aav2h1xqGzK-",
        "outputId": "154110d4-87a0-4e15-bf81-8915bdcccafb"
      },
      "execution_count": 16,
      "outputs": [
        {
          "output_type": "stream",
          "name": "stdout",
          "text": [
            "Количество сотрудников в каждой компании:\n",
            "Zuko Ltd: 255\n",
            "Workus Co: 257\n",
            "Craft Ltd: 242\n",
            "NodaTLT Co: 246\n",
            "\n",
            "Средняя зарплата в каждой компании:\n",
            "Craft Ltd: $1392.62\n",
            "\n",
            "Количество сотрудников, владеющих английским: 250\n",
            "\n",
            "Количество сотрудников с зарплатой более $3000: 0\n"
          ]
        }
      ]
    },
    {
      "cell_type": "markdown",
      "source": [
        "###Ответы на контрольные вопросы"
      ],
      "metadata": {
        "id": "xA3P1x4LInQl"
      }
    },
    {
      "cell_type": "markdown",
      "source": [
        "1. Напишите код для печати суммы элементов списка p: <br>\n",
        "p = [10, 100, 34, 56, 45, 45]\n"
      ],
      "metadata": {
        "id": "7IEL7poAIsn6"
      }
    },
    {
      "cell_type": "code",
      "source": [
        "p = [10, 100, 34, 56, 45, 45]\n",
        "print(\"Сумма элементов:\", sum(p))"
      ],
      "metadata": {
        "colab": {
          "base_uri": "https://localhost:8080/"
        },
        "id": "VURQz737JpL8",
        "outputId": "8e7ab81a-3272-4683-c965-7c916cb6e139"
      },
      "execution_count": null,
      "outputs": [
        {
          "output_type": "stream",
          "name": "stdout",
          "text": [
            "Сумма элементов: 290\n"
          ]
        }
      ]
    },
    {
      "cell_type": "markdown",
      "source": [
        "2. Напишите код для печати количества элементов списка p: <Br>\n",
        "p = [10, 100, 34, 56, 45, 45]"
      ],
      "metadata": {
        "id": "-TVj9SdLJrZZ"
      }
    },
    {
      "cell_type": "code",
      "source": [
        "p = [10, 100, 34, 56, 45, 45]\n",
        "print(\"Количество элементов:\", len(p))"
      ],
      "metadata": {
        "colab": {
          "base_uri": "https://localhost:8080/"
        },
        "id": "_IQXPX2xJtiY",
        "outputId": "8e67172e-ef9d-4dfc-f840-92249a4984f2"
      },
      "execution_count": null,
      "outputs": [
        {
          "output_type": "stream",
          "name": "stdout",
          "text": [
            "Количество элементов: 6\n"
          ]
        }
      ]
    },
    {
      "cell_type": "markdown",
      "source": [
        "3. Напишите код для печати суммы элементов кратных 7: <br>\n",
        "p = [10, 100, 35, 34, 56, 45, 45, 21]"
      ],
      "metadata": {
        "id": "QXWb2S1IJ0D0"
      }
    },
    {
      "cell_type": "code",
      "source": [
        "p = [10, 100, 35, 34, 56, 45, 45, 21]\n",
        "sum_7 = sum(x for x in p if x % 7 == 0)\n",
        "print(\"Сумма элементов, кратных 7:\", sum_7)"
      ],
      "metadata": {
        "colab": {
          "base_uri": "https://localhost:8080/"
        },
        "id": "DoGgjFKQJ5b5",
        "outputId": "5c7af34b-054d-4071-a92b-cb47e7036af9"
      },
      "execution_count": null,
      "outputs": [
        {
          "output_type": "stream",
          "name": "stdout",
          "text": [
            "Сумма элементов, кратных 7: 112\n"
          ]
        }
      ]
    },
    {
      "cell_type": "markdown",
      "source": [
        "4. Напишите код для поиска ключей словаря d, для которых значения\n",
        "превышают 45: <br>\n",
        "p = {4:10, 12:100, 35:3, 34:56, 56:11, 45:’abc’}"
      ],
      "metadata": {
        "id": "VhPeG2eYKMUu"
      }
    },
    {
      "cell_type": "code",
      "source": [
        "d = {4: 10, 12: 100, 35: 3, 34: 56, 56: 11, 45: 'abc'}\n",
        "keys = [k for k, v in d.items() if isinstance(v, int) and v > 45]\n",
        "print(\"Ключи с значениями > 45:\", keys)"
      ],
      "metadata": {
        "colab": {
          "base_uri": "https://localhost:8080/"
        },
        "id": "T612qA9TKTYT",
        "outputId": "fb064a2d-10f4-45f2-b287-e3a4ad4ec4d6"
      },
      "execution_count": null,
      "outputs": [
        {
          "output_type": "stream",
          "name": "stdout",
          "text": [
            "Ключи с значениями > 45: [12, 34]\n"
          ]
        }
      ]
    },
    {
      "cell_type": "markdown",
      "source": [
        "5. Напишите код, который выводит список, составленный из квадратов чисел\n",
        "от 1 до 100.<br> Сам список также необходимо сгенерировать.\n"
      ],
      "metadata": {
        "id": "81-vszogKqc_"
      }
    },
    {
      "cell_type": "code",
      "source": [
        "squares = [i**2 for i in range(1, 101)]\n",
        "print(\"Квадраты чисел от 1 до 100:\", squares)"
      ],
      "metadata": {
        "colab": {
          "base_uri": "https://localhost:8080/"
        },
        "id": "z7ecg1lzLlni",
        "outputId": "33b5443a-a209-486a-be9a-2761928cd24d"
      },
      "execution_count": null,
      "outputs": [
        {
          "output_type": "stream",
          "name": "stdout",
          "text": [
            "Квадраты чисел от 1 до 100: [1, 4, 9, 16, 25, 36, 49, 64, 81, 100, 121, 144, 169, 196, 225, 256, 289, 324, 361, 400, 441, 484, 529, 576, 625, 676, 729, 784, 841, 900, 961, 1024, 1089, 1156, 1225, 1296, 1369, 1444, 1521, 1600, 1681, 1764, 1849, 1936, 2025, 2116, 2209, 2304, 2401, 2500, 2601, 2704, 2809, 2916, 3025, 3136, 3249, 3364, 3481, 3600, 3721, 3844, 3969, 4096, 4225, 4356, 4489, 4624, 4761, 4900, 5041, 5184, 5329, 5476, 5625, 5776, 5929, 6084, 6241, 6400, 6561, 6724, 6889, 7056, 7225, 7396, 7569, 7744, 7921, 8100, 8281, 8464, 8649, 8836, 9025, 9216, 9409, 9604, 9801, 10000]\n"
          ]
        }
      ]
    },
    {
      "cell_type": "markdown",
      "source": [
        "6. Опишите структуру файла csv. Поясните последовательность действий при\n",
        "чтении файла csv."
      ],
      "metadata": {
        "id": "wemf26zvL0Sv"
      }
    },
    {
      "cell_type": "markdown",
      "source": [
        "Структура CSV:\n",
        "\n",
        "\n",
        "Строки разделены символами \\n.\n",
        "\n",
        "Столбцы в строке разделены запятыми (,) или другим разделителем.\n",
        "\n",
        "Первая строка обычно содержит заголовки.\n",
        "\n",
        "\n",
        "```\n",
        "import csv\n",
        "\n",
        "with open('file.csv', 'r') as f:\n",
        "    reader = csv.reader(f)  # Или csv.DictReader для словарей\n",
        "    headers = next(reader)  # Заголовки (если есть)\n",
        "    for row in reader:\n",
        "        print(row)  # Обработка данных\n",
        "```\n",
        "- Открытие файла: Используется with open(...) для автоматического закрытия.\n",
        "\n",
        "- Чтение данных: csv.reader читает строки как списки, csv.DictReader — как словари с заголовками.\n",
        "\n",
        "- Обработка: Данные обрабатываются построчно.\n"
      ],
      "metadata": {
        "id": "jiBHyrjyL4D7"
      }
    }
  ]
}